{
 "cells": [
  {
   "cell_type": "markdown",
   "metadata": {
    "colab_type": "text",
    "id": "ZqdiUwk3ffTj"
   },
   "source": [
    "# Codealong:  APIs with Python\n",
    "> GSA Data Practitioner Summit Codealong, October 2018"
   ]
  },
  {
   "cell_type": "markdown",
   "metadata": {
    "colab_type": "text",
    "id": "0ZcrQBKdffTk"
   },
   "source": [
    "# Reminders! \n",
    ">This session was designed to be interactive and (hopefully) fun!<br><br>\n",
    ">If you plan to code along, all you'll need to do is zoom-chat me your solution!"
   ]
  },
  {
   "cell_type": "markdown",
   "metadata": {
    "colab_type": "text",
    "id": "OlwVg_UfffTl"
   },
   "source": [
    "# Learning Objectives\n",
    "\n",
    "* Understand the **Hypertext Transfer Protocol (HTTP)**\n",
    "* Define **Application Programming Interface (API)** \n",
    "* Introduce Python's workhorse API library, `requests`\n",
    "* Differentiate **XML** and **JSON**\n",
    "* Learn how to parse **JSON** using Python\n",
    "* Think like a computer (this can be a good thing!)\n",
    "* Oh, and learn a lot of useless information about **Star Wars**"
   ]
  },
  {
   "cell_type": "markdown",
   "metadata": {
    "colab_type": "text",
    "id": "jlnTzFxMffTl"
   },
   "source": [
    "# 1. The Hypertext Transfer Protocol (HTTP)\n",
    "**HTTP** is the foundation of data communication for the World Wide Web. The Star Wars API that we'll soon use relies on it."
   ]
  },
  {
   "cell_type": "markdown",
   "metadata": {
    "colab_type": "text",
    "id": "cPzcw8VHffTm"
   },
   "source": [
    "### 1.1 The Internet\n",
    "The Internet is a large network of interconnected networks. A suite of protocols, commonly known as [TCP/IP](https://en.wikipedia.org/wiki/Internet_protocol_suite), governs the flow of information within this network of networks.  \n",
    "\n",
    "<img src=\"https://www.washingtonpost.com/blogs/worldviews/files/2014/01/jAlw8ap-1.gif\" width = 400 height = 400>\n",
    "\n",
    "But where does all of the information on the Internet come from?"
   ]
  },
  {
   "cell_type": "markdown",
   "metadata": {
    "colab_type": "text",
    "id": "LyUEfyiJffTm"
   },
   "source": [
    "### 1.2 Remote Servers\n",
    "Every *bit* of information on the Internet is stored somewhere on one or many **remote servers**. A remote server sounds technical, but it’s just a distant computer that is optimized to process *requests for information*.\n",
    "\n",
    "<img src=\"https://steemitimages.com/0x0/https://steemitimages.com/DQmbup5Cp465SLErBWo7jSTiYja5oPo7nxRQo3YT2T9D6m6/Cloud.gif\" width = 400 height = 400>\n",
    "\n",
    "But how does a remote server know how to handle a request for information?"
   ]
  },
  {
   "cell_type": "markdown",
   "metadata": {
    "colab_type": "text",
    "id": "4ZWU5ArgffTo"
   },
   "source": [
    "### 1.3 HTTP\n",
    "The **Hypertext Transfer Protocol (HTTP)** is the set of rules that enables remote servers to process requests for information.\n",
    "\n",
    "More specifically, HTTP governs **requests** for information and **responses** of information within a **client–server computing model**. \n",
    "\n",
    "<img src=\"https://raw.github.com/site2site/site2site.github.io/master/images/lectures/client-server-model/client-server-2.gif\" width = 400 height = 400>\n",
    "\n",
    "In this model, the client submits an HTTP request message to the server. The server, which might provide resources such as images and text, then returns an HTTP response message to the client."
   ]
  },
  {
   "cell_type": "markdown",
   "metadata": {
    "colab_type": "text",
    "id": "tzYvrdnaffTp"
   },
   "source": [
    "### 1.4 An Everyday Example\n",
    ">When you type `www.google.com` into your browser, you - the client - are sending an HTTP request to Google's remote server. That server accepts your request and then sends back an HTTP response. \n",
    "\n",
    ">To you, the response is the google homepage:\n",
    ">\n",
    "><img src=\"https://www.google.com/intl/en_us/homepage/images/hero-dhp-chrome-mac.jpg?mmfb=9f871c66de344d37d2dd5a8c74d03a1b\" width = 300 height = 300>\n",
    ">\n",
    "\n",
    ">But to your browser, which is the the client, a part of the response actually looks something like this:\n",
    ">\n",
    "><img src=\"https://www.computerhope.com/issues/pictures/view-source.jpg\" width = 300 height = 300>\n",
    ">"
   ]
  },
  {
   "cell_type": "markdown",
   "metadata": {
    "colab_type": "text",
    "id": "8brgQe9YffTp"
   },
   "source": [
    "# 2. So What Does This Have to Do with APIs?\n",
    "**Application Programming Interfaces (APIs)** are sets of requirements that govern how one application can communicate and interact with another. Every time you visit a page on the Web, you're interacting with some remote server’s API.\n",
    "\n",
    "In the `google.com` example, Google's server is functioning, in part, as an API. \n",
    "\n",
    "When you request `www.google.com`, Google's server receives that url and knows that you want the homepage. \n",
    "\n",
    "But if you request `maps.google.com/`, Google's server determines that you want Google Maps instead. \n",
    "\n",
    "But APIs can serve up more than just webpages and maps. They can also serve up data!"
   ]
  },
  {
   "cell_type": "markdown",
   "metadata": {
    "colab_type": "text",
    "id": "pe7ZkXSYffTq"
   },
   "source": [
    "### 2.1 APIs for Data \n",
    "APIs come in many flavors, but as data scientists what we're really interested in those that can connect us to a data source. These sorts of APIs allow us to request and retrieve data from remote servers **so long as we adhere to the API's rules**.\n",
    "\n",
    "Today, we'll use Python to access an **open API**:  the [Star Wars API](https://swapi.co/). \n",
    "\n",
    ">An **open API** is a publicly available application programming interface that provides developers with programmatic access to a proprietary software application or web service."
   ]
  },
  {
   "cell_type": "markdown",
   "metadata": {
    "colab_type": "text",
    "id": "KA_weZ3LffTq"
   },
   "source": [
    "### 2.2 Why Use an API?\n",
    "Computer software is increasingly becoming the *de facto* medium of business. This means that people who have never had any formal education in computer science need to have at least some software literacy. From sales analysts to HR representatives, we are all being asked to make “data driven” decisions. \n",
    "\n",
    "But you can't make a data driven decision without data. And, Uufortunately, our data is far too often locked up in uncommunicative databases that have horrendous user interfaces and sluggish functionality. \n",
    "\n",
    "People build APIs as an attempt to free that data and make it more accessible to those that need it.\n",
    "\n",
    "More specifically, APIs are useful when:\n",
    "\n",
    " - **The data changes quickly** \n",
    "     - E.g. asset-level IoT sensor data\n",
    " - **You only want a slice of the data**\n",
    "     - E.g. transactional data, such as a single entity update in SAM.gov from a particular day\n",
    " - **You need to repeat computations** \n",
    "     - E.g. monitoring solicitation and award numbers in FedBiz Opps on a routine basis\n",
    " - **You want to automate a process that involves a variety of data sources**\n",
    "     - E.g. Programs communicate via APIs\n",
    "\n",
    "Finally, there might be situations where some or all of those use-cases coincide. It's in those situations that an API becomes very useful!"
   ]
  },
  {
   "cell_type": "markdown",
   "metadata": {
    "colab_type": "text",
    "id": "N8Sw8BjBffTr"
   },
   "source": [
    "## 3. API Data Formats:  XML and JSON\n",
    "API's deliver their data in a variety of formats. Two common formats are **XML** and **JSON**."
   ]
  },
  {
   "cell_type": "markdown",
   "metadata": {
    "colab_type": "text",
    "id": "kwHVr7GKffTs"
   },
   "source": [
    "### 3.1 Extendable Markup Language (XML)\n",
    "\n",
    ">  - XML is a markup language that encodes documents in a format that is both human-readable and machine-readable.\n",
    " - Although XML is an older than JSON, it still pervades systems today. If you need to use an API that’s been around for over ten years, the likelihood that you’ll need to work with XML is high."
   ]
  },
  {
   "cell_type": "markdown",
   "metadata": {
    "colab_type": "text",
    "id": "J6JyCbjqffTs"
   },
   "source": [
    "### 3.2 JavaScript Object Notation (JSON)\n",
    ">  - JSON is an open-standard file format that uses human-readable text to transmit data objects consisting of attribute–value pairs and array data types (or any other serializable values).\n",
    " - JSON is the format of choice for transmitting data across platforms. Although both JSON and XML are platform independent, JSON is considerably more plain-language. This makes JSON easier for humans to read and parse."
   ]
  },
  {
   "cell_type": "markdown",
   "metadata": {
    "colab_type": "text",
    "id": "xhNK7URuffTt"
   },
   "source": [
    "### 3.3 A Visual Comparison of XML and JSON\n",
    "<img src=\"https://www.sunnyhoi.com/app/uploads/2017/09/json-vs-xml-which-format-to-use-for-your-api.png\" height = 450 width = 450>"
   ]
  },
  {
   "cell_type": "markdown",
   "metadata": {
    "colab_type": "text",
    "id": "ElplbB3XffTt"
   },
   "source": [
    "### 3.4 Takeaways\n",
    " - JSON is easier to read/parse and increasingly more common\n",
    " - XML can be tougher to parse, but is found in many legacy systems"
   ]
  },
  {
   "cell_type": "markdown",
   "metadata": {
    "colab_type": "text",
    "id": "Hxa-amxIffTu"
   },
   "source": [
    "# 4. JSON and Python Dictionaries\n",
    "JSON bears a close resemblance to Python's built in `dictionary` type.\n",
    "\n",
    "> A `dictionary` is a unordered mapping of unique **keys** to **values**.\n",
    "\n",
    "Here's an example of a simple Python dictionary:"
   ]
  },
  {
   "cell_type": "code",
   "execution_count": 1,
   "metadata": {
    "colab": {
     "base_uri": "https://localhost:8080/",
     "height": 34
    },
    "colab_type": "code",
    "executionInfo": {
     "elapsed": 319,
     "status": "ok",
     "timestamp": 1539884322254,
     "user": {
      "displayName": "Christiana Chen - IDM-C",
      "photoUrl": "",
      "userId": "12467076527495800959"
     },
     "user_tz": 240
    },
    "id": "0UTd426nffTv",
    "outputId": "ed2d0f3f-6dc8-42f9-d0de-339d41ff4457"
   },
   "outputs": [],
   "source": [
    "d = {'key_1' : 'value_1',\n",
    "     'key_2' : 'value_2'}"
   ]
  },
  {
   "cell_type": "markdown",
   "metadata": {
    "colab_type": "text",
    "id": "erZapYITffTx"
   },
   "source": [
    ">Above, we used an equal sign (`=`) to create the object `d`. We used two curly brackets `{}` to enclose two *key:value* pairs. Each *key:value* pair is conjoined with a colon (`:`). Both the values and the keys are strings, defined using single quotes `''`, which is how we tell Python that we're typing characters. "
   ]
  },
  {
   "cell_type": "markdown",
   "metadata": {
    "colab_type": "text",
    "id": "2DqyyIP0ffTy"
   },
   "source": [
    "Now that we have a dictionary object (`d`), we do things with it, like lookup the value of a particular key. To do this, we use the bracket `[]` indexing noation:"
   ]
  },
  {
   "cell_type": "code",
   "execution_count": 2,
   "metadata": {
    "colab": {},
    "colab_type": "code",
    "id": "MkJ2eb-3ffTz",
    "outputId": "3e81fded-decc-469f-aa4f-de951466f79a"
   },
   "outputs": [
    {
     "data": {
      "text/plain": [
       "'value_1'"
      ]
     },
     "execution_count": 2,
     "metadata": {},
     "output_type": "execute_result"
    }
   ],
   "source": [
    "#get the value assigned to the string 'key_1'\n",
    "d['key_1']"
   ]
  },
  {
   "cell_type": "markdown",
   "metadata": {
    "colab_type": "text",
    "id": "kvOxpbXIffT4"
   },
   "source": [
    "Above, we returned the value assigned to `'key_1'`, which is `'value_1'`. "
   ]
  },
  {
   "cell_type": "markdown",
   "metadata": {
    "colab_type": "text",
    "id": "dDMLMAWLffT5"
   },
   "source": [
    "### 4.1 Your Turn!\n",
    ">#1 - Lookup the value that maps to `'key_2'`."
   ]
  },
  {
   "cell_type": "code",
   "execution_count": 3,
   "metadata": {
    "colab": {},
    "colab_type": "code",
    "id": "_LJm3TdmffT6"
   },
   "outputs": [
    {
     "data": {
      "text/plain": [
       "'value_2'"
      ]
     },
     "execution_count": 3,
     "metadata": {},
     "output_type": "execute_result"
    }
   ],
   "source": [
    "# You:  Code here\n",
    "d['key_2']"
   ]
  },
  {
   "cell_type": "markdown",
   "metadata": {
    "colab_type": "text",
    "id": "g8W6c7jQffT8"
   },
   "source": [
    "### 4.2 Nested Dictionaries\n",
    "\n",
    "In Python, just about anything can be a value within a dictionary - even another dictionary!  When you have a dictionary within a dictionary, you have what's called a **nested dictionary**. For example:"
   ]
  },
  {
   "cell_type": "code",
   "execution_count": 5,
   "metadata": {
    "colab": {},
    "colab_type": "code",
    "id": "jPAebWX6ffT9"
   },
   "outputs": [],
   "source": [
    "nested_dict = { \n",
    "                'dict1': {'key_1': 'value_1'},\n",
    "                'dict2': {'key_2': 'value_2'}\n",
    "                }"
   ]
  },
  {
   "cell_type": "markdown",
   "metadata": {
    "colab_type": "text",
    "id": "_qFeye1sffUA"
   },
   "source": [
    "Above, `nested_dict` is a nested dictionary. There are two internal dictionaries assigned to the keys `'dict1'` and `'dict2'`. Both of those dictionaries have a single key that maps to a single value. \n",
    "\n",
    "To access the elements of a nested dictionary, we use the same indexing `[]` syntax."
   ]
  },
  {
   "cell_type": "code",
   "execution_count": 6,
   "metadata": {
    "colab": {},
    "colab_type": "code",
    "id": "NxgmveAmffUA",
    "outputId": "8650d7bb-df25-4486-b040-dd3c62913638"
   },
   "outputs": [
    {
     "data": {
      "text/plain": [
       "{'key_1': 'value_1'}"
      ]
     },
     "execution_count": 6,
     "metadata": {},
     "output_type": "execute_result"
    }
   ],
   "source": [
    "# access the dictionary value that belongs to the key 'dict1'. This will return a dictionary.\n",
    "nested_dict['dict1']"
   ]
  },
  {
   "cell_type": "code",
   "execution_count": 7,
   "metadata": {
    "colab": {},
    "colab_type": "code",
    "id": "8RncyCgeffUG",
    "outputId": "cb146cc9-c1b7-40ca-9651-6d4fa905ac3f"
   },
   "outputs": [
    {
     "data": {
      "text/plain": [
       "'value_1'"
      ]
     },
     "execution_count": 7,
     "metadata": {},
     "output_type": "execute_result"
    }
   ],
   "source": [
    "# access the value that belongs to 'key_1' within the nested dictionary. This will return a string.\n",
    "nested_dict['dict1']['key_1']"
   ]
  },
  {
   "cell_type": "markdown",
   "metadata": {
    "colab_type": "text",
    "id": "yjBRVcG4ffUJ"
   },
   "source": [
    "Now that you've got a feel for nested dictionaries, let's consider a slightly more complex nested dictionary that has dictionaries, strings, lists, integers and floats as values. "
   ]
  },
  {
   "cell_type": "code",
   "execution_count": 9,
   "metadata": {
    "colab": {},
    "colab_type": "code",
    "id": "4zngWwV_ffUK"
   },
   "outputs": [],
   "source": [
    "simpsons = {'season_one' : {'num_episodes':23, \n",
    "                            'avg_rating':92.7,\n",
    "                            'awards':[\"Good Writing award\"],\n",
    "                            'fan_favorite':'cartoon dog'},\n",
    "            \n",
    "            'season_two' : {'num_episodes':15, \n",
    "                            'avg_rating':88.4,\n",
    "                            'awards': [\"Cowabunga of the Year\", \"Better Homes and Gardens People's Choice\"],\n",
    "                            'fan_favorite':'Skateboard Kid'},\n",
    "            \n",
    "            'season_three' : {'num_episodes':25, \n",
    "                              'avg_rating':90.4,\n",
    "                              'awards':[],\n",
    "                              'fan_favorite':\"Marge's Hair\"},\n",
    "            \n",
    "            'season_four' : {'num_episodes':18, \n",
    "                             'avg_rating':95,\n",
    "                             'awards':[\"Good Job Award\", \"Funny Show of the Month (February)\"],\n",
    "                             'fan_favorite':\"Homer\"}}"
   ]
  },
  {
   "cell_type": "markdown",
   "metadata": {
    "colab_type": "text",
    "id": "tqxXzhYwffUN"
   },
   "source": [
    "The nested dictionary - `simpsons` - contains four keys: \n",
    " - `'season_one'`\n",
    " - `'season_two'`\n",
    " - `'season_three'`\n",
    " - `'season_four'`\n",
    " \n",
    "We can get the keys of a dictionary using the `keys()` method of a dictionary object:"
   ]
  },
  {
   "cell_type": "code",
   "execution_count": 10,
   "metadata": {
    "colab": {},
    "colab_type": "code",
    "id": "9j3ipvDYffUR",
    "outputId": "abe6ec49-828b-4b87-b5c2-d551bd5149c7"
   },
   "outputs": [
    {
     "data": {
      "text/plain": [
       "dict_keys(['season_one', 'season_two', 'season_three', 'season_four'])"
      ]
     },
     "execution_count": 10,
     "metadata": {},
     "output_type": "execute_result"
    }
   ],
   "source": [
    "# the simpsons object's 4 keys\n",
    "simpsons.keys()"
   ]
  },
  {
   "cell_type": "markdown",
   "metadata": {
    "colab_type": "text",
    "id": "C4V0rNMhffUU"
   },
   "source": [
    "Each of these keys maps to a value. Since `simpsons` is a nested dictionary, each key maps to yet another dictionary. Take the value belonging to `'season_one'`. That dictionary contains the following keys:\n",
    " - `'num_episodes'`\n",
    " - `'avg_rating'`\n",
    " - `'awards'`\n",
    " - `'fan_favorite'`"
   ]
  },
  {
   "cell_type": "code",
   "execution_count": 11,
   "metadata": {
    "colab": {},
    "colab_type": "code",
    "id": "45o9V9OpffUU",
    "outputId": "bf07987d-168e-41b9-9c31-01ed91af21e9"
   },
   "outputs": [
    {
     "data": {
      "text/plain": [
       "dict_keys(['num_episodes', 'avg_rating', 'awards', 'fan_favorite'])"
      ]
     },
     "execution_count": 11,
     "metadata": {},
     "output_type": "execute_result"
    }
   ],
   "source": [
    "# the keys belonging to the dictionary that maps to `season_one`\n",
    "simpsons['season_one'].keys()"
   ]
  },
  {
   "cell_type": "markdown",
   "metadata": {
    "colab_type": "text",
    "id": "PBudlUU-ffUY"
   },
   "source": [
    "Those keys then map to a variety of value types such as `str`, `int`, `float`, and `list`. They can be accessed using the same indexing notation `[]`."
   ]
  },
  {
   "cell_type": "code",
   "execution_count": 12,
   "metadata": {
    "colab": {},
    "colab_type": "code",
    "id": "Rzkb61b8ffUY"
   },
   "outputs": [
    {
     "data": {
      "text/plain": [
       "92.7"
      ]
     },
     "execution_count": 12,
     "metadata": {},
     "output_type": "execute_result"
    }
   ],
   "source": [
    "# get the avg_rating of season one, which is a float (i.e. decimal) value\n",
    "simpsons['season_one']['avg_rating']"
   ]
  },
  {
   "cell_type": "markdown",
   "metadata": {
    "colab_type": "text",
    "id": "hZY6s-5VffUm"
   },
   "source": [
    "### 4.3 Your Turn!\n",
    "Before we actually use an API and start parsing some JSON, we're going to warm up with the nested dictionary `simpsons`. Try to answer the following questions:"
   ]
  },
  {
   "cell_type": "markdown",
   "metadata": {
    "colab_type": "text",
    "id": "_lxudMNCffUn"
   },
   "source": [
    ">#1 - How many episodes are in the fourth season?"
   ]
  },
  {
   "cell_type": "code",
   "execution_count": 0,
   "metadata": {
    "colab": {},
    "colab_type": "code",
    "id": "6iKrSyHhffUo"
   },
   "outputs": [],
   "source": [
    "# You:  Code here\n"
   ]
  },
  {
   "cell_type": "markdown",
   "metadata": {
    "colab_type": "text",
    "id": "obo-P5otffUt"
   },
   "source": [
    ">#2 - How many episodes did the show air over its first four seasons?"
   ]
  },
  {
   "cell_type": "code",
   "execution_count": 0,
   "metadata": {
    "colab": {},
    "colab_type": "code",
    "id": "BxZEiByFffUu"
   },
   "outputs": [],
   "source": [
    "# You:  Code here\n"
   ]
  },
  {
   "cell_type": "markdown",
   "metadata": {
    "colab_type": "text",
    "id": "qxn9eD6cffUv"
   },
   "source": [
    "# 5. Let's make an API Request!\n",
    "Now that we're warmed up, we'll use Python's `requests` module to request data from the [The Star Wars API](https://swapi.co/). We'll then use what we know about Python dictionaries to access and parse that response.\n",
    "\n",
    "We're going to learn totally useless information about Star Wars!\n",
    "\n",
    "<img src=\"https://media.giphy.com/media/xT9DPmbSh7Y1uOh7nW/giphy.gif\" >\n",
    "\n",
    "But first, we need to know a little bit more about what goes into an API **request**."
   ]
  },
  {
   "cell_type": "markdown",
   "metadata": {
    "colab_type": "text",
    "id": "xML1yWV9ffUw"
   },
   "source": [
    "## 5.1 Anatomy of an API Request (typically)\n",
    "**Requests** are made using the Hypertext Transfer Protocol (HTTP). To make a valid request, the client (that means you!) needs to include four things:\n",
    " - **URL (Uniform Resource Locator)**\n",
    "     - This is how we (the client) tell the server which resources we want to interact with\n",
    "     - The URL is commonly comprised of three parts:\n",
    "         1. <font color='green'>Host</font>\n",
    "         2. <font color='blue'>Resource Path</font>\n",
    "         3. <font color='red'>Query (sometimes optional)</font>\n",
    "         <br><br><font color='green' size=24><span>http</span>s://swapi.co/api</font><font color='blue' size=24>/people</font><font color='red' size=24>/?search=r2</font>\n",
    "    \n",
    "         \n",
    " - **Method**\n",
    "    - The method tells the server what kind of action we (the client) want to perform. Our request will be a **GET**, which asks the server to retrieve a resource.\n",
    " - **Headers**\n",
    "    - Headers provide meta-data about a request. You might use headers for authentication purposes or to specify the data format you want. The `requests` library supplies your requests with some default headers, but you can add custom headers if you want.\n",
    " - **Body**\n",
    "    - GET requests don't (or rather shouldn't) have meaningful bodies (cf [this](https://stackoverflow.com/questions/22034144/what-does-it-mean-http-request-body) and [this](https://stackoverflow.com/questions/978061/http-get-with-request-body)), so we'll ignore this for now.\n",
    "\n",
    "Although it's usually a good idea to read an API's [documentation](https://swapi.co/documentation#base) before blindly making requests, you can rest assured that I did that for you. So let's get started!"
   ]
  },
  {
   "cell_type": "markdown",
   "metadata": {
    "colab_type": "text",
    "id": "alcUAqsoffUw"
   },
   "source": [
    "### 5.2 Define the URL\n",
    "We won't use a query for our first request. Instead, we'll request all of the data for the first Star Wars movie:  A New Hope."
   ]
  },
  {
   "cell_type": "code",
   "execution_count": 13,
   "metadata": {
    "colab": {},
    "colab_type": "code",
    "id": "rKZHytQrffUy",
    "outputId": "8b44c272-e606-4138-8c4c-7a14a98984ed"
   },
   "outputs": [
    {
     "name": "stdout",
     "output_type": "stream",
     "text": [
      "Here's the url we'll use for our first request:\n",
      "https://swapi.co/api/films/1\n",
      "Try visiting it in your browser now!\n"
     ]
    }
   ],
   "source": [
    "#define the host\n",
    "host = \"https://swapi.co/api\"\n",
    "#define the resource path (ignoring a query for now)\n",
    "resource_path = \"/films/1\"\n",
    "#concatenate the host and resource path\n",
    "url = host + resource_path\n",
    "#print our url to spot check\n",
    "print(f\"Here's the url we'll use for our first request:\\n{url}\\nTry visiting it in your browser now!\")"
   ]
  },
  {
   "cell_type": "markdown",
   "metadata": {
    "colab_type": "text",
    "id": "ZwB79WoMffU0"
   },
   "source": [
    ">If we vist that link, we'll get a sneak preview of what we'll soon be requesting with Python. "
   ]
  },
  {
   "cell_type": "markdown",
   "metadata": {
    "colab_type": "text",
    "id": "NnThRBW7ffU0"
   },
   "source": [
    "### 5.3 Make the GET Request\n",
    "For our request, we'll use the `get()` method from `requests` to specify that our request is a GET. \n",
    "We'll also let `requests` use the default headers. \n",
    "So all we need to pass to `requests.get()` is the url that we defined above.\n",
    "\n",
    "Let's do that now!"
   ]
  },
  {
   "cell_type": "code",
   "execution_count": 14,
   "metadata": {
    "colab": {},
    "colab_type": "code",
    "id": "cxXz6Ek_ffU1"
   },
   "outputs": [
    {
     "name": "stderr",
     "output_type": "stream",
     "text": [
      "/anaconda/lib/python3.6/site-packages/requests/__init__.py:91: RequestsDependencyWarning: urllib3 (1.23) or chardet (2.3.0) doesn't match a supported version!\n",
      "  RequestsDependencyWarning)\n"
     ]
    }
   ],
   "source": [
    "import requests #this is how you gain access to the requests library\n",
    "\n",
    "r = requests.get(url) #here, we'll assign the results of our request to an object named `r`"
   ]
  },
  {
   "cell_type": "markdown",
   "metadata": {
    "colab_type": "text",
    "id": "nFOa97AWffU3"
   },
   "source": [
    "So that was easy. But what's `r`?"
   ]
  },
  {
   "cell_type": "code",
   "execution_count": 15,
   "metadata": {
    "colab": {},
    "colab_type": "code",
    "id": "66KzRGmUffU4",
    "outputId": "5453bf37-8286-4f2c-9cf6-6a6a0e084a5f"
   },
   "outputs": [
    {
     "data": {
      "text/plain": [
       "requests.models.Response"
      ]
     },
     "execution_count": 15,
     "metadata": {},
     "output_type": "execute_result"
    }
   ],
   "source": [
    "type(r)"
   ]
  },
  {
   "cell_type": "markdown",
   "metadata": {
    "colab_type": "text",
    "id": "W9cXok7sffU8"
   },
   "source": [
    "`r` contains our response. It's a special type specific to the `requests` library. Before we dive into that object, let's acquaint ourselves with the anatomy of a response."
   ]
  },
  {
   "cell_type": "markdown",
   "metadata": {
    "colab_type": "text",
    "id": "r9DxH_XnffU9"
   },
   "source": [
    "## 5.4 Anatomy of an API Response\n",
    "A **Response** consists of:\n",
    " - A **Status Code**\n",
    "     - Status codes are issued by a server in response to a client's request made to the server. They tell you if your request was successful and, if not, a little about why not. \n",
    " - **Headers**\n",
    "     - Meta-data about the response. For example, the Content-Type header tells you the format of your response's data.\n",
    " - A **Body** of structured data\n",
    "     - The most commonly used structure for this data is JSON (Javascript Object Notation)"
   ]
  },
  {
   "cell_type": "markdown",
   "metadata": {
    "colab_type": "text",
    "id": "FXUr9Oc7ffU-"
   },
   "source": [
    "#### 5.4.1 Status codes\n",
    "Status codes are returned with every request that is made to a web server. You're probably already familiar with one but just don't know it. Does this look familiar?\n",
    "\n",
    "<img src=\"https://i.stack.imgur.com/WOlr3.png\" width=500 height=500>\n",
    "\n",
    "A **404** is a type of status code.\n",
    "\n",
    "Here are some other status codes that are relevant to GET requests:\n",
    " - 301 - the server is redirecting you to a different endpoint. This can happen when a company switches domain names, or an endpoint name is changed.\n",
    " - 400 - the server thinks you made a bad request. This can happen when you don't send along the right data, among other things.\n",
    " - 401 - the server thinks you're not authenticated. This happens when you don't send the right credentials to access an API (we'll talk about authentication in a later post).\n",
    " - 403 - the resource you're trying to access is forbidden:you don't have the right permissions to see it.\n",
    " - 404 - the resource you tried to access wasn't found on the server.\n",
    " - **200** - the request has succeeded, although the information returned with the response is dependent on the method used in the request."
   ]
  },
  {
   "cell_type": "code",
   "execution_count": 16,
   "metadata": {
    "colab": {},
    "colab_type": "code",
    "id": "vu2cv0j1ffU_",
    "outputId": "fa13d637-1a70-4161-8519-266fc154bd85"
   },
   "outputs": [
    {
     "data": {
      "text/plain": [
       "200"
      ]
     },
     "execution_count": 16,
     "metadata": {},
     "output_type": "execute_result"
    }
   ],
   "source": [
    "#check our status code\n",
    "r.status_code"
   ]
  },
  {
   "cell_type": "markdown",
   "metadata": {
    "colab_type": "text",
    "id": "uo-PDC8bffVD"
   },
   "source": [
    "#### 5.4.2 Headers\n",
    "Response headers depend on the status code. Since we got a 200 response, we can check the headers to verify that our response's data was delivered as JSON. "
   ]
  },
  {
   "cell_type": "code",
   "execution_count": 17,
   "metadata": {
    "colab": {},
    "colab_type": "code",
    "id": "OrW4hlM6ffVE",
    "outputId": "09bdce5e-a440-4455-ef6b-a2cdbab4ccd5"
   },
   "outputs": [
    {
     "data": {
      "text/plain": [
       "{'Date': 'Tue, 23 Oct 2018 14:51:14 GMT', 'Content-Type': 'application/json', 'Transfer-Encoding': 'chunked', 'Connection': 'keep-alive', 'Vary': 'Accept, Cookie', 'X-Frame-Options': 'SAMEORIGIN', 'Etag': 'W/\"efcda1cd8821a886c81de0c6de9dd6f1\"', 'Allow': 'GET, HEAD, OPTIONS', 'Via': '1.1 vegur', 'Expect-CT': 'max-age=604800, report-uri=\"https://report-uri.cloudflare.com/cdn-cgi/beacon/expect-ct\"', 'Server': 'cloudflare', 'CF-RAY': '46e50547ffc39f78-IAD', 'Content-Encoding': 'gzip'}"
      ]
     },
     "execution_count": 17,
     "metadata": {},
     "output_type": "execute_result"
    }
   ],
   "source": [
    "# check the response headers. Notice how the return value is a dictionary!\n",
    "r.headers"
   ]
  },
  {
   "cell_type": "markdown",
   "metadata": {
    "colab_type": "text",
    "id": "XsQmaJx7ffVH"
   },
   "source": [
    "Since the response headers are a dictionary, we can access a specifc key, like `'Content-Type'`:"
   ]
  },
  {
   "cell_type": "code",
   "execution_count": 18,
   "metadata": {
    "colab": {},
    "colab_type": "code",
    "id": "rwhGYBM3ffVI",
    "outputId": "81dbcdf7-1cb5-426a-ab8a-adcf45f97cf0"
   },
   "outputs": [
    {
     "data": {
      "text/plain": [
       "'application/json'"
      ]
     },
     "execution_count": 18,
     "metadata": {},
     "output_type": "execute_result"
    }
   ],
   "source": [
    "r.headers['Content-Type']"
   ]
  },
  {
   "cell_type": "markdown",
   "metadata": {
    "colab_type": "text",
    "id": "gMRpuFHAffVN"
   },
   "source": [
    "#### 5.4.3 Body\n",
    "Alright! So far we've\n",
    " - made a request\n",
    " - received a valid (200) response\n",
    " - verified in the headers that the `'Content-Type'` is `'application/json'`\n",
    " \n",
    "This is great!\n",
    "\n",
    "But how do we access and parse that JSON data in the response's body?\n",
    "\n",
    "<img src=\"https://media.giphy.com/media/MWBCREitBJc8o/giphy.gif\" width = 300 height = 300>"
   ]
  },
  {
   "cell_type": "code",
   "execution_count": 19,
   "metadata": {
    "colab": {},
    "colab_type": "code",
    "id": "L_j7jenBffVN",
    "outputId": "c0d4cf2b-4032-4c74-e129-32c97ff9a69d"
   },
   "outputs": [
    {
     "ename": "AttributeError",
     "evalue": "'Response' object has no attribute 'body'",
     "output_type": "error",
     "traceback": [
      "\u001b[0;31m---------------------------------------------------------------------------\u001b[0m",
      "\u001b[0;31mAttributeError\u001b[0m                            Traceback (most recent call last)",
      "\u001b[0;32m<ipython-input-19-353975757755>\u001b[0m in \u001b[0;36m<module>\u001b[0;34m()\u001b[0m\n\u001b[1;32m      1\u001b[0m \u001b[0;31m# will this work??\u001b[0m\u001b[0;34m\u001b[0m\u001b[0;34m\u001b[0m\u001b[0m\n\u001b[0;32m----> 2\u001b[0;31m \u001b[0mr\u001b[0m\u001b[0;34m.\u001b[0m\u001b[0mbody\u001b[0m\u001b[0;34m\u001b[0m\u001b[0m\n\u001b[0m",
      "\u001b[0;31mAttributeError\u001b[0m: 'Response' object has no attribute 'body'"
     ]
    }
   ],
   "source": [
    "# will this work??\n",
    "r.body"
   ]
  },
  {
   "cell_type": "code",
   "execution_count": 20,
   "metadata": {
    "colab": {},
    "colab_type": "code",
    "id": "uXXyq2KGffVQ",
    "outputId": "44b2885f-b5d4-477a-c5ef-8d95892b9ad5"
   },
   "outputs": [
    {
     "ename": "AttributeError",
     "evalue": "'Response' object has no attribute 'body'",
     "output_type": "error",
     "traceback": [
      "\u001b[0;31m---------------------------------------------------------------------------\u001b[0m",
      "\u001b[0;31mAttributeError\u001b[0m                            Traceback (most recent call last)",
      "\u001b[0;32m<ipython-input-20-c7812138ae59>\u001b[0m in \u001b[0;36m<module>\u001b[0;34m()\u001b[0m\n\u001b[1;32m      1\u001b[0m \u001b[0;31m# what about this, will it work?\u001b[0m\u001b[0;34m\u001b[0m\u001b[0;34m\u001b[0m\u001b[0m\n\u001b[0;32m----> 2\u001b[0;31m \u001b[0mr\u001b[0m\u001b[0;34m.\u001b[0m\u001b[0mbody\u001b[0m\u001b[0;34m(\u001b[0m\u001b[0;34m)\u001b[0m\u001b[0;34m\u001b[0m\u001b[0m\n\u001b[0m",
      "\u001b[0;31mAttributeError\u001b[0m: 'Response' object has no attribute 'body'"
     ]
    }
   ],
   "source": [
    "# what about this, will it work?\n",
    "r.body()"
   ]
  },
  {
   "cell_type": "markdown",
   "metadata": {
    "colab_type": "text",
    "id": "_1PcApG5ffVV"
   },
   "source": [
    "### 5.5 Documentation Break\n",
    ">At some point, you're going to need to read the documentation.\n",
    ">So we're going to take a look at the [requests documentation](http://docs.python-requests.org/en/master/api/) to try to figure out how we can get the json data out of our requests object `r`.<br><br>\n",
    ">I'll structure my search with a few guiding questions:\n",
    "1. Which method from the `requests` library did we use?\n",
    "2. What did that method return?\n",
    "3. What methods or attributes are available to that return type?\n",
    "4. Does one of those methods or attributes give us what we need (JSON data in our case)?"
   ]
  },
  {
   "cell_type": "code",
   "execution_count": 21,
   "metadata": {
    "colab": {},
    "colab_type": "code",
    "id": "9qPHdLjfffVV"
   },
   "outputs": [
    {
     "data": {
      "text/plain": [
       "{'title': 'A New Hope',\n",
       " 'episode_id': 4,\n",
       " 'opening_crawl': \"It is a period of civil war.\\r\\nRebel spaceships, striking\\r\\nfrom a hidden base, have won\\r\\ntheir first victory against\\r\\nthe evil Galactic Empire.\\r\\n\\r\\nDuring the battle, Rebel\\r\\nspies managed to steal secret\\r\\nplans to the Empire's\\r\\nultimate weapon, the DEATH\\r\\nSTAR, an armored space\\r\\nstation with enough power\\r\\nto destroy an entire planet.\\r\\n\\r\\nPursued by the Empire's\\r\\nsinister agents, Princess\\r\\nLeia races home aboard her\\r\\nstarship, custodian of the\\r\\nstolen plans that can save her\\r\\npeople and restore\\r\\nfreedom to the galaxy....\",\n",
       " 'director': 'George Lucas',\n",
       " 'producer': 'Gary Kurtz, Rick McCallum',\n",
       " 'release_date': '1977-05-25',\n",
       " 'characters': ['https://swapi.co/api/people/1/',\n",
       "  'https://swapi.co/api/people/2/',\n",
       "  'https://swapi.co/api/people/3/',\n",
       "  'https://swapi.co/api/people/4/',\n",
       "  'https://swapi.co/api/people/5/',\n",
       "  'https://swapi.co/api/people/6/',\n",
       "  'https://swapi.co/api/people/7/',\n",
       "  'https://swapi.co/api/people/8/',\n",
       "  'https://swapi.co/api/people/9/',\n",
       "  'https://swapi.co/api/people/10/',\n",
       "  'https://swapi.co/api/people/12/',\n",
       "  'https://swapi.co/api/people/13/',\n",
       "  'https://swapi.co/api/people/14/',\n",
       "  'https://swapi.co/api/people/15/',\n",
       "  'https://swapi.co/api/people/16/',\n",
       "  'https://swapi.co/api/people/18/',\n",
       "  'https://swapi.co/api/people/19/',\n",
       "  'https://swapi.co/api/people/81/'],\n",
       " 'planets': ['https://swapi.co/api/planets/2/',\n",
       "  'https://swapi.co/api/planets/3/',\n",
       "  'https://swapi.co/api/planets/1/'],\n",
       " 'starships': ['https://swapi.co/api/starships/2/',\n",
       "  'https://swapi.co/api/starships/3/',\n",
       "  'https://swapi.co/api/starships/5/',\n",
       "  'https://swapi.co/api/starships/9/',\n",
       "  'https://swapi.co/api/starships/10/',\n",
       "  'https://swapi.co/api/starships/11/',\n",
       "  'https://swapi.co/api/starships/12/',\n",
       "  'https://swapi.co/api/starships/13/'],\n",
       " 'vehicles': ['https://swapi.co/api/vehicles/4/',\n",
       "  'https://swapi.co/api/vehicles/6/',\n",
       "  'https://swapi.co/api/vehicles/7/',\n",
       "  'https://swapi.co/api/vehicles/8/'],\n",
       " 'species': ['https://swapi.co/api/species/5/',\n",
       "  'https://swapi.co/api/species/3/',\n",
       "  'https://swapi.co/api/species/2/',\n",
       "  'https://swapi.co/api/species/1/',\n",
       "  'https://swapi.co/api/species/4/'],\n",
       " 'created': '2014-12-10T14:23:31.880000Z',\n",
       " 'edited': '2015-04-11T09:46:52.774897Z',\n",
       " 'url': 'https://swapi.co/api/films/1/'}"
      ]
     },
     "execution_count": 21,
     "metadata": {},
     "output_type": "execute_result"
    }
   ],
   "source": [
    "# access the json in r\n",
    "r.json()"
   ]
  },
  {
   "cell_type": "code",
   "execution_count": null,
   "metadata": {},
   "outputs": [],
   "source": []
  },
  {
   "cell_type": "markdown",
   "metadata": {
    "colab_type": "text",
    "id": "_QXcSBFuffVW"
   },
   "source": [
    "### 5.6 Your Turn!\n",
    "<img src=\"https://media.giphy.com/media/3ornk7TgUdhjhTYgta/giphy.gif\" height=300 width = 300>"
   ]
  },
  {
   "cell_type": "code",
   "execution_count": 22,
   "metadata": {
    "colab": {},
    "colab_type": "code",
    "id": "w0WXLN3sffVX"
   },
   "outputs": [],
   "source": [
    "# You:  we saw how to get the json out of r! Now assign it to a variable named a_new_hope\n",
    "a_new_hope = r.json()"
   ]
  },
  {
   "cell_type": "code",
   "execution_count": 23,
   "metadata": {
    "colab": {},
    "colab_type": "code",
    "id": "3oK3Ml2iffVZ"
   },
   "outputs": [
    {
     "data": {
      "text/plain": [
       "dict"
      ]
     },
     "execution_count": 23,
     "metadata": {},
     "output_type": "execute_result"
    }
   ],
   "source": [
    "# You: check the type of a_new_hope\n",
    "type(a_new_hope)"
   ]
  },
  {
   "cell_type": "code",
   "execution_count": 24,
   "metadata": {
    "colab": {},
    "colab_type": "code",
    "id": "qt_WEtQuffVc"
   },
   "outputs": [
    {
     "data": {
      "text/plain": [
       "dict_keys(['title', 'episode_id', 'opening_crawl', 'director', 'producer', 'release_date', 'characters', 'planets', 'starships', 'vehicles', 'species', 'created', 'edited', 'url'])"
      ]
     },
     "execution_count": 24,
     "metadata": {},
     "output_type": "execute_result"
    }
   ],
   "source": [
    "#  You: what keys exist within a_new_hope? \n",
    "a_new_hope.keys()"
   ]
  },
  {
   "cell_type": "code",
   "execution_count": 26,
   "metadata": {
    "colab": {},
    "colab_type": "code",
    "id": "hKfWW0_0ffVf"
   },
   "outputs": [
    {
     "data": {
      "text/plain": [
       "\"It is a period of civil war.\\r\\nRebel spaceships, striking\\r\\nfrom a hidden base, have won\\r\\ntheir first victory against\\r\\nthe evil Galactic Empire.\\r\\n\\r\\nDuring the battle, Rebel\\r\\nspies managed to steal secret\\r\\nplans to the Empire's\\r\\nultimate weapon, the DEATH\\r\\nSTAR, an armored space\\r\\nstation with enough power\\r\\nto destroy an entire planet.\\r\\n\\r\\nPursued by the Empire's\\r\\nsinister agents, Princess\\r\\nLeia races home aboard her\\r\\nstarship, custodian of the\\r\\nstolen plans that can save her\\r\\npeople and restore\\r\\nfreedom to the galaxy....\""
      ]
     },
     "execution_count": 26,
     "metadata": {},
     "output_type": "execute_result"
    }
   ],
   "source": [
    "# You:  Print the opening crawl of the film\n",
    "a_new_hope['opening_crawl']"
   ]
  },
  {
   "cell_type": "code",
   "execution_count": 27,
   "metadata": {
    "colab": {},
    "colab_type": "code",
    "id": "Fr0ZKgCTffVi"
   },
   "outputs": [
    {
     "data": {
      "text/plain": [
       "['https://swapi.co/api/people/1/',\n",
       " 'https://swapi.co/api/people/2/',\n",
       " 'https://swapi.co/api/people/3/',\n",
       " 'https://swapi.co/api/people/4/',\n",
       " 'https://swapi.co/api/people/5/',\n",
       " 'https://swapi.co/api/people/6/',\n",
       " 'https://swapi.co/api/people/7/',\n",
       " 'https://swapi.co/api/people/8/',\n",
       " 'https://swapi.co/api/people/9/',\n",
       " 'https://swapi.co/api/people/10/',\n",
       " 'https://swapi.co/api/people/12/',\n",
       " 'https://swapi.co/api/people/13/',\n",
       " 'https://swapi.co/api/people/14/',\n",
       " 'https://swapi.co/api/people/15/',\n",
       " 'https://swapi.co/api/people/16/',\n",
       " 'https://swapi.co/api/people/18/',\n",
       " 'https://swapi.co/api/people/19/',\n",
       " 'https://swapi.co/api/people/81/']"
      ]
     },
     "execution_count": 27,
     "metadata": {},
     "output_type": "execute_result"
    }
   ],
   "source": [
    "# You:  What characters are in this film?\n",
    "a_new_hope['characters']"
   ]
  },
  {
   "cell_type": "markdown",
   "metadata": {
    "colab_type": "text",
    "id": "dqkWpo-XffVj"
   },
   "source": [
    "It looks like the characters key doesn't contain what we were expecting. Instead of a list of character names, we have a list of urls that seem similar to our original. So let's make another request to examine the json for the first character in that list of urls."
   ]
  },
  {
   "cell_type": "code",
   "execution_count": 0,
   "metadata": {
    "colab": {},
    "colab_type": "code",
    "id": "3YDkZ_rGffVj"
   },
   "outputs": [],
   "source": [
    "# You:  Make a request for the first character in the list of urls. Get the json and assign it to char_1\n"
   ]
  },
  {
   "cell_type": "code",
   "execution_count": 0,
   "metadata": {
    "colab": {},
    "colab_type": "code",
    "id": "avkvKVkLffVl"
   },
   "outputs": [],
   "source": [
    "# You: What's the name of this character?\n"
   ]
  },
  {
   "cell_type": "markdown",
   "metadata": {
    "colab_type": "text",
    "id": "Lrb3kataffVp"
   },
   "source": [
    "# 6. Thinking Like a Computer\n",
    "A basic building block of all programming is the ability to repeat some code over and over again. In computer science, repetitive code execution is known as **iteration**. \n",
    "\n",
    "We'll use a `for` loop to iterate through a `list` of character urls and return some data about them. \n",
    "\n",
    ">A **loop** is a sequence of instructions that is continually executed until a certain condition is reached. For us, the condition that we need to reach is that we run out of character urls. Since that's the case, we'll use a `for` loop. \n",
    "\n",
    "> A `list` is a Python data type. It is a changeable, ordered sequence of elements."
   ]
  },
  {
   "cell_type": "code",
   "execution_count": 28,
   "metadata": {
    "colab": {},
    "colab_type": "code",
    "id": "SdYQOQ88ffVq"
   },
   "outputs": [],
   "source": [
    "#create a list of all of the urls\n",
    "character_urls = a_new_hope['characters']\n",
    "\n",
    "#instantiate an empty list using the brackets []. We'll append to this list during the for loop\n",
    "characters = []\n",
    "\n",
    "#loop through each of the urls in our list of character urls \n",
    "for char_url in character_urls:\n",
    "    #make a get request with the char_url\n",
    "    char_r = requests.get(char_url)\n",
    "    \n",
    "    #get the json from the response\n",
    "    char_json = char_r.json()\n",
    "    \n",
    "    #append the json to the list we instantiate on line 4\n",
    "    characters.append(char_json)"
   ]
  },
  {
   "cell_type": "markdown",
   "metadata": {
    "colab_type": "text",
    "id": "asJUzvFHffVs"
   },
   "source": [
    "We now have the JSON response for each character in a `list` object called `characters`. \n",
    "\n",
    "Let's access the first (i.e. $0^{th}$) element in that list to be sure it's Luke Skywalker like we discovered above.\n"
   ]
  },
  {
   "cell_type": "code",
   "execution_count": 29,
   "metadata": {
    "colab": {},
    "colab_type": "code",
    "id": "ZEuWPTlfffVs"
   },
   "outputs": [
    {
     "data": {
      "text/plain": [
       "{'name': 'Luke Skywalker',\n",
       " 'height': '172',\n",
       " 'mass': '77',\n",
       " 'hair_color': 'blond',\n",
       " 'skin_color': 'fair',\n",
       " 'eye_color': 'blue',\n",
       " 'birth_year': '19BBY',\n",
       " 'gender': 'male',\n",
       " 'homeworld': 'https://swapi.co/api/planets/1/',\n",
       " 'films': ['https://swapi.co/api/films/2/',\n",
       "  'https://swapi.co/api/films/6/',\n",
       "  'https://swapi.co/api/films/3/',\n",
       "  'https://swapi.co/api/films/1/',\n",
       "  'https://swapi.co/api/films/7/'],\n",
       " 'species': ['https://swapi.co/api/species/1/'],\n",
       " 'vehicles': ['https://swapi.co/api/vehicles/14/',\n",
       "  'https://swapi.co/api/vehicles/30/'],\n",
       " 'starships': ['https://swapi.co/api/starships/12/',\n",
       "  'https://swapi.co/api/starships/22/'],\n",
       " 'created': '2014-12-09T13:50:51.644000Z',\n",
       " 'edited': '2014-12-20T21:17:56.891000Z',\n",
       " 'url': 'https://swapi.co/api/people/1/'}"
      ]
     },
     "execution_count": 29,
     "metadata": {},
     "output_type": "execute_result"
    }
   ],
   "source": [
    "#To access the first element in the list of characters, we use the bracket [] notation:\n",
    "characters[0]"
   ]
  },
  {
   "cell_type": "markdown",
   "metadata": {
    "colab_type": "text",
    "id": "UMkVqbAgffVt"
   },
   "source": [
    "There he is. Alright!\n",
    "\n",
    "> Now, as a quick (and optional) aside, let's see how we can achive the same outcome as that for loop in one line of code using a [list comprehension](https://docs.python.org/3/tutorial/datastructures.html#list-comprehensions) instead of a `for` loop."
   ]
  },
  {
   "cell_type": "code",
   "execution_count": 0,
   "metadata": {
    "colab": {},
    "colab_type": "code",
    "id": "ymvpWtMvffVu"
   },
   "outputs": [],
   "source": [
    "# using a list comprehension\n",
    "chars = [requests.get(char_url).json() for char_url in r.json()['characters']]"
   ]
  },
  {
   "cell_type": "code",
   "execution_count": 0,
   "metadata": {
    "colab": {},
    "colab_type": "code",
    "id": "sEzU1NKFffVx"
   },
   "outputs": [],
   "source": [
    "# whats the first element in the list of characters?\n",
    "chars[0]"
   ]
  },
  {
   "cell_type": "markdown",
   "metadata": {
    "colab_type": "text",
    "id": "ZwOcba8QffV2"
   },
   "source": [
    "### 6.1 Your turn\n",
    "Now that we have a list of character dictionaries in both `chars` and `characters`, use a `for` loop (or a list comprehension!) on one of them to `print()` the names of each character."
   ]
  },
  {
   "cell_type": "code",
   "execution_count": 0,
   "metadata": {
    "colab": {},
    "colab_type": "code",
    "id": "2A6V-6hOffV3"
   },
   "outputs": [],
   "source": [
    "# YOU:  print() all of the characters' names!\n"
   ]
  },
  {
   "cell_type": "markdown",
   "metadata": {
    "colab_type": "text",
    "id": "y3xrEyR-ffV5"
   },
   "source": [
    "## 6.2 Your Turn! (again)\n",
    "Pick a different film (e.g 'http://swapi.co/api/films/2' or 'http://swapi.co/api/films/3') and figure out the following:\n",
    "\n",
    "> #1 - The total `mass` of all of the `characters` in the film you chose."
   ]
  },
  {
   "cell_type": "code",
   "execution_count": 0,
   "metadata": {
    "colab": {},
    "colab_type": "code",
    "id": "YSbocps2ffV6"
   },
   "outputs": [],
   "source": [
    "# YOU:  get the total mass of all of the characters in the film you chose\n"
   ]
  },
  {
   "cell_type": "markdown",
   "metadata": {
    "colab_type": "text",
    "id": "sA5vMAxbffV9"
   },
   "source": [
    ">#2 - The total number of `crew` members that could fit on every `starship` in the film you chose (you can assume that there is only one of each ship in each film)."
   ]
  },
  {
   "cell_type": "code",
   "execution_count": 0,
   "metadata": {
    "colab": {},
    "colab_type": "code",
    "id": "ai_9SEstffV-"
   },
   "outputs": [],
   "source": [
    "# YOU:  get the total number of crew members that could fit on every starship in the film you chose\n"
   ]
  },
  {
   "cell_type": "markdown",
   "metadata": {
    "colab_type": "text",
    "id": "2emQZ77xffV_"
   },
   "source": [
    ">#3 - The `diameter` of the largest `planet` in the film you chose."
   ]
  },
  {
   "cell_type": "code",
   "execution_count": 0,
   "metadata": {
    "colab": {},
    "colab_type": "code",
    "id": "LSiM80yHffWA"
   },
   "outputs": [],
   "source": [
    "# YOU:  get the diameter of the largest planet in the film you chose.\n"
   ]
  },
  {
   "cell_type": "markdown",
   "metadata": {
    "colab_type": "text",
    "id": "qAOevWfuffWD"
   },
   "source": [
    ">#4 - The names of all of the male `characters` in the film you chose."
   ]
  },
  {
   "cell_type": "code",
   "execution_count": 0,
   "metadata": {
    "colab": {},
    "colab_type": "code",
    "id": "8NpoBYzrffWE"
   },
   "outputs": [],
   "source": [
    "# YOU:  get the names of all of the male characters in the film you chose.\n"
   ]
  },
  {
   "cell_type": "markdown",
   "metadata": {
    "colab_type": "text",
    "id": "Cq4p1Qu6ffWG"
   },
   "source": [
    "# 7. Bonus\n",
    "For fun, here's a scatter plot of each character's height and weight."
   ]
  },
  {
   "cell_type": "code",
   "execution_count": 30,
   "metadata": {
    "colab": {},
    "colab_type": "code",
    "id": "YcEIFz8affWG",
    "outputId": "82791a58-9fa5-411a-dde1-ec70b5705df9"
   },
   "outputs": [
    {
     "name": "stderr",
     "output_type": "stream",
     "text": [
      "/anaconda/lib/python3.6/site-packages/seaborn/regression.py:546: UserWarning: The `size` paramter has been renamed to `height`; please update your code.\n",
      "  warnings.warn(msg, UserWarning)\n"
     ]
    },
    {
     "data": {
      "image/png": "[encoded data removed]",
      "text/plain": [
       "<Figure size 674.375x540 with 1 Axes>"
      ]
     },
     "metadata": {},
     "output_type": "display_data"
    }
   ],
   "source": [
    "import pandas as pd\n",
    "import matplotlib.pyplot as plt\n",
    "import seaborn as sns\n",
    "%matplotlib inline\n",
    "\n",
    "#create list of tuples for chars\n",
    "data = [(x['name'],x['mass'],x['height']) for x in characters] \n",
    "#convert data to dataframe object\n",
    "df = pd.DataFrame(data).dropna(how='any')\n",
    "#rename columns\n",
    "df.columns = ['Name','Mass','Height'] \n",
    "#convert strings to numeric and drop nan\n",
    "df['Mass'] = pd.to_numeric(df['Mass'].str.replace(\",\",''),errors='coerce')\n",
    "df['Height'] = pd.to_numeric(df['Height'], errors = 'coerce')\n",
    "#drop nulls\n",
    "df.dropna(inplace=True)\n",
    "#reset the index\n",
    "df.reset_index(inplace=True)\n",
    "\n",
    "#plot mass against height\n",
    "sns.lmplot(\"Height\", \n",
    "           \"Mass\", \n",
    "           data=df, \n",
    "           hue='Name', \n",
    "           fit_reg=False,\n",
    "           size=7.5) #plot Mass against Height\n",
    "\n",
    "plt.title('Height and Mass of Characters from A New Hope')\n",
    "\n",
    "# add annotations one by one with a loop \n",
    "for line in range(0,df.shape[0]):\n",
    "    #but only label Jabba\n",
    "    if \"Jabba\" in df.Name[line]:\n",
    "        plt.text(df.Height[line]+2, \n",
    "                 df.Mass[line], \n",
    "                 df.Name[line], \n",
    "                 horizontalalignment='left', \n",
    "                 size='medium', \n",
    "                 color='black', \n",
    "                 weight='semibold')\n",
    "    else:\n",
    "        pass"
   ]
  },
  {
   "cell_type": "markdown",
   "metadata": {},
   "source": [
    "# Postscript\n",
    "1. Check out GSA's API directory here:\n",
    "\n",
    ">https://open.gsa.gov/api\n",
    "\n",
    "\n",
    "2. Join GSA's API Working group by send an email to:\n",
    "\n",
    ">ryan.day@gsa.gov\n"
   ]
  }
 ],
 "metadata": {
  "colab": {
   "collapsed_sections": [
    "xhNK7URuffTt",
    "ElplbB3XffTt",
    "dDMLMAWLffT5",
    "g8W6c7jQffT8",
    "hZY6s-5VffUm",
    "alcUAqsoffUw",
    "NnThRBW7ffU0",
    "FXUr9Oc7ffU-",
    "uo-PDC8bffVD",
    "gMRpuFHAffVN",
    "_1PcApG5ffVV",
    "_QXcSBFuffVW",
    "ZwOcba8QffV2"
   ],
   "name": "APIs 101.ipynb",
   "provenance": [],
   "version": "0.3.2"
  },
  "kernelspec": {
   "display_name": "Python 3",
   "language": "python",
   "name": "python3"
  },
  "language_info": {
   "codemirror_mode": {
    "name": "ipython",
    "version": 3
   },
   "file_extension": ".py",
   "mimetype": "text/x-python",
   "name": "python",
   "nbconvert_exporter": "python",
   "pygments_lexer": "ipython3",
   "version": "3.6.5"
  }
 },
 "nbformat": 4,
 "nbformat_minor": 1
}
